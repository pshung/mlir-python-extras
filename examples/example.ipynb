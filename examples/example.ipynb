{
 "cells": [
  {
   "cell_type": "code",
   "execution_count": 3,
   "metadata": {},
   "outputs": [
    {
     "name": "stdout",
     "output_type": "stream",
     "text": [
      "module {\n",
      "  func.func @memfoo(%arg0: memref<10x10xi64>, %arg1: memref<10x10xi64>, %arg2: memref<10x10xi64>) {\n",
      "    %c1_i32 = arith.constant 1 : i32\n",
      "    %c2_i32 = arith.constant 2 : i32\n",
      "    %0 = arith.cmpi ugt, %c1_i32, %c2_i32 : i32\n",
      "    scf.if %0 {\n",
      "      %c3_i64 = arith.constant 3 : i64\n",
      "      %c0 = arith.constant 0 : index\n",
      "      %c0_0 = arith.constant 0 : index\n",
      "      memref.store %c3_i64, %arg2[%c0, %c0_0] : memref<10x10xi64>\n",
      "    } else {\n",
      "      %c0 = arith.constant 0 : index\n",
      "      %c10 = arith.constant 10 : index\n",
      "      %c1 = arith.constant 1 : index\n",
      "      scf.for %arg3 = %c0 to %c10 step %c1 {\n",
      "        %c0_0 = arith.constant 0 : index\n",
      "        %c10_1 = arith.constant 10 : index\n",
      "        %c1_2 = arith.constant 1 : index\n",
      "        scf.for %arg4 = %c0_0 to %c10_1 step %c1_2 {\n",
      "          %1 = memref.load %arg0[%arg3, %arg4] : memref<10x10xi64>\n",
      "          %2 = memref.load %arg1[%arg3, %arg4] : memref<10x10xi64>\n",
      "          %3 = arith.muli %1, %2 : i64\n",
      "          memref.store %3, %arg2[%arg3, %arg4] : memref<10x10xi64>\n",
      "        }\n",
      "      }\n",
      "    }\n",
      "    return\n",
      "  }\n",
      "}\n",
      "\n"
     ]
    },
    {
     "data": {
      "text/plain": [
       "False"
      ]
     },
     "execution_count": 3,
     "metadata": {},
     "output_type": "execute_result"
    }
   ],
   "source": [
    "\n",
    "import sys\n",
    "sys.path.append('/home/nick/work/MLIR/build/tools/mlir/python_packages/mlir_core')\n",
    "sys.path.append('/home/nick/work/mlir_nelli')\n",
    "\n",
    "import numpy as np\n",
    "\n",
    "import mlir.extras.types as T\n",
    "from mlir.extras.ast.canonicalize import canonicalize\n",
    "from mlir.extras.context import ContextManager\n",
    "from mlir.extras.dialects.ext.arith import constant\n",
    "from mlir.extras.dialects.ext.memref import S\n",
    "from mlir.extras.dialects.ext.func import toMLIRFunc\n",
    "from mlir.extras.dialects.ext.scf import canonicalizer as scf_canonicalizer, range_ as range\n",
    "from mlir.extras.runtime.passes import Pipeline, run_pipeline\n",
    "from mlir.extras.runtime.refbackend import LLVMJITBackend\n",
    "from mlir.ir import StridedLayoutAttr\n",
    "\n",
    "# create MLIR context\n",
    "CM = ContextManager()\n",
    "Ctx = CM.__enter__()\n",
    "backend = LLVMJITBackend()\n",
    "\n",
    "K = 10\n",
    "memref_i64 = T.memref(K, K, T.i64())\n",
    "\n",
    "@toMLIRFunc(emit=True)\n",
    "@canonicalize(using=scf_canonicalizer) # AST transformer and Bytecode patcher\n",
    "def memfoo(A: memref_i64, B: memref_i64, C: memref_i64):\n",
    "    one = constant(1)\n",
    "    two = constant(2)\n",
    "    if one > two:\n",
    "        C[0, 0] = constant(3, T.i64())\n",
    "    else:\n",
    "        for i in range(0, K):\n",
    "            for j in range(0, K):\n",
    "                C[i, j] = A[i, j] * B[i, j]\n",
    "\n",
    "\n",
    "\n",
    "run_pipeline(Ctx.module, Pipeline().cse())\n",
    "print(Ctx.module)\n",
    "CM.__exit__(None, None, None)\n"
   ]
  },
  {
   "cell_type": "code",
   "execution_count": null,
   "metadata": {},
   "outputs": [],
   "source": []
  }
 ],
 "metadata": {
  "kernelspec": {
   "display_name": ".venv",
   "language": "python",
   "name": "python3"
  },
  "language_info": {
   "codemirror_mode": {
    "name": "ipython",
    "version": 3
   },
   "file_extension": ".py",
   "mimetype": "text/x-python",
   "name": "python",
   "nbconvert_exporter": "python",
   "pygments_lexer": "ipython3",
   "version": "3.11.5"
  }
 },
 "nbformat": 4,
 "nbformat_minor": 2
}
